{
 "cells": [
  {
   "cell_type": "markdown",
   "metadata": {},
   "source": [
    "# Churn Prediction using ANN "
   ]
  },
  {
   "cell_type": "code",
   "execution_count": 43,
   "metadata": {},
   "outputs": [],
   "source": [
    "import numpy as np\n",
    "import pandas as pd\n",
    "import matplotlib.pyplot as plt\n",
    "from sklearn.preprocessing import LabelEncoder, OneHotEncoder\n",
    "from sklearn.compose import ColumnTransformer\n",
    "from sklearn.model_selection import train_test_split\n",
    "from sklearn.preprocessing import StandardScaler\n",
    "from sklearn.metrics import confusion_matrix, accuracy_score\n",
    "import keras\n",
    "from keras.models import Sequential\n",
    "from keras.layers import Dense"
   ]
  },
  {
   "cell_type": "code",
   "execution_count": 4,
   "metadata": {},
   "outputs": [],
   "source": [
    "data=pd.read_csv('Churn_Modelling.csv')"
   ]
  },
  {
   "cell_type": "code",
   "execution_count": 5,
   "metadata": {},
   "outputs": [
    {
     "data": {
      "text/html": [
       "<div>\n",
       "<style scoped>\n",
       "    .dataframe tbody tr th:only-of-type {\n",
       "        vertical-align: middle;\n",
       "    }\n",
       "\n",
       "    .dataframe tbody tr th {\n",
       "        vertical-align: top;\n",
       "    }\n",
       "\n",
       "    .dataframe thead th {\n",
       "        text-align: right;\n",
       "    }\n",
       "</style>\n",
       "<table border=\"1\" class=\"dataframe\">\n",
       "  <thead>\n",
       "    <tr style=\"text-align: right;\">\n",
       "      <th></th>\n",
       "      <th>RowNumber</th>\n",
       "      <th>CustomerId</th>\n",
       "      <th>Surname</th>\n",
       "      <th>CreditScore</th>\n",
       "      <th>Geography</th>\n",
       "      <th>Gender</th>\n",
       "      <th>Age</th>\n",
       "      <th>Tenure</th>\n",
       "      <th>Balance</th>\n",
       "      <th>NumOfProducts</th>\n",
       "      <th>HasCrCard</th>\n",
       "      <th>IsActiveMember</th>\n",
       "      <th>EstimatedSalary</th>\n",
       "      <th>Exited</th>\n",
       "    </tr>\n",
       "  </thead>\n",
       "  <tbody>\n",
       "    <tr>\n",
       "      <th>0</th>\n",
       "      <td>1</td>\n",
       "      <td>15634602</td>\n",
       "      <td>Hargrave</td>\n",
       "      <td>619</td>\n",
       "      <td>France</td>\n",
       "      <td>Female</td>\n",
       "      <td>42</td>\n",
       "      <td>2</td>\n",
       "      <td>0.00</td>\n",
       "      <td>1</td>\n",
       "      <td>1</td>\n",
       "      <td>1</td>\n",
       "      <td>101348.88</td>\n",
       "      <td>1</td>\n",
       "    </tr>\n",
       "    <tr>\n",
       "      <th>1</th>\n",
       "      <td>2</td>\n",
       "      <td>15647311</td>\n",
       "      <td>Hill</td>\n",
       "      <td>608</td>\n",
       "      <td>Spain</td>\n",
       "      <td>Female</td>\n",
       "      <td>41</td>\n",
       "      <td>1</td>\n",
       "      <td>83807.86</td>\n",
       "      <td>1</td>\n",
       "      <td>0</td>\n",
       "      <td>1</td>\n",
       "      <td>112542.58</td>\n",
       "      <td>0</td>\n",
       "    </tr>\n",
       "    <tr>\n",
       "      <th>2</th>\n",
       "      <td>3</td>\n",
       "      <td>15619304</td>\n",
       "      <td>Onio</td>\n",
       "      <td>502</td>\n",
       "      <td>France</td>\n",
       "      <td>Female</td>\n",
       "      <td>42</td>\n",
       "      <td>8</td>\n",
       "      <td>159660.80</td>\n",
       "      <td>3</td>\n",
       "      <td>1</td>\n",
       "      <td>0</td>\n",
       "      <td>113931.57</td>\n",
       "      <td>1</td>\n",
       "    </tr>\n",
       "    <tr>\n",
       "      <th>3</th>\n",
       "      <td>4</td>\n",
       "      <td>15701354</td>\n",
       "      <td>Boni</td>\n",
       "      <td>699</td>\n",
       "      <td>France</td>\n",
       "      <td>Female</td>\n",
       "      <td>39</td>\n",
       "      <td>1</td>\n",
       "      <td>0.00</td>\n",
       "      <td>2</td>\n",
       "      <td>0</td>\n",
       "      <td>0</td>\n",
       "      <td>93826.63</td>\n",
       "      <td>0</td>\n",
       "    </tr>\n",
       "    <tr>\n",
       "      <th>4</th>\n",
       "      <td>5</td>\n",
       "      <td>15737888</td>\n",
       "      <td>Mitchell</td>\n",
       "      <td>850</td>\n",
       "      <td>Spain</td>\n",
       "      <td>Female</td>\n",
       "      <td>43</td>\n",
       "      <td>2</td>\n",
       "      <td>125510.82</td>\n",
       "      <td>1</td>\n",
       "      <td>1</td>\n",
       "      <td>1</td>\n",
       "      <td>79084.10</td>\n",
       "      <td>0</td>\n",
       "    </tr>\n",
       "  </tbody>\n",
       "</table>\n",
       "</div>"
      ],
      "text/plain": [
       "   RowNumber  CustomerId   Surname  CreditScore Geography  Gender  Age  \\\n",
       "0          1    15634602  Hargrave          619    France  Female   42   \n",
       "1          2    15647311      Hill          608     Spain  Female   41   \n",
       "2          3    15619304      Onio          502    France  Female   42   \n",
       "3          4    15701354      Boni          699    France  Female   39   \n",
       "4          5    15737888  Mitchell          850     Spain  Female   43   \n",
       "\n",
       "   Tenure    Balance  NumOfProducts  HasCrCard  IsActiveMember  \\\n",
       "0       2       0.00              1          1               1   \n",
       "1       1   83807.86              1          0               1   \n",
       "2       8  159660.80              3          1               0   \n",
       "3       1       0.00              2          0               0   \n",
       "4       2  125510.82              1          1               1   \n",
       "\n",
       "   EstimatedSalary  Exited  \n",
       "0        101348.88       1  \n",
       "1        112542.58       0  \n",
       "2        113931.57       1  \n",
       "3         93826.63       0  \n",
       "4         79084.10       0  "
      ]
     },
     "execution_count": 5,
     "metadata": {},
     "output_type": "execute_result"
    }
   ],
   "source": [
    "data.head()"
   ]
  },
  {
   "cell_type": "code",
   "execution_count": 7,
   "metadata": {},
   "outputs": [
    {
     "data": {
      "text/plain": [
       "(10000, 14)"
      ]
     },
     "execution_count": 7,
     "metadata": {},
     "output_type": "execute_result"
    }
   ],
   "source": [
    "data.shape"
   ]
  },
  {
   "cell_type": "code",
   "execution_count": 8,
   "metadata": {},
   "outputs": [
    {
     "data": {
      "text/html": [
       "<div>\n",
       "<style scoped>\n",
       "    .dataframe tbody tr th:only-of-type {\n",
       "        vertical-align: middle;\n",
       "    }\n",
       "\n",
       "    .dataframe tbody tr th {\n",
       "        vertical-align: top;\n",
       "    }\n",
       "\n",
       "    .dataframe thead th {\n",
       "        text-align: right;\n",
       "    }\n",
       "</style>\n",
       "<table border=\"1\" class=\"dataframe\">\n",
       "  <thead>\n",
       "    <tr style=\"text-align: right;\">\n",
       "      <th></th>\n",
       "      <th>RowNumber</th>\n",
       "      <th>CustomerId</th>\n",
       "      <th>CreditScore</th>\n",
       "      <th>Age</th>\n",
       "      <th>Tenure</th>\n",
       "      <th>Balance</th>\n",
       "      <th>NumOfProducts</th>\n",
       "      <th>HasCrCard</th>\n",
       "      <th>IsActiveMember</th>\n",
       "      <th>EstimatedSalary</th>\n",
       "      <th>Exited</th>\n",
       "    </tr>\n",
       "  </thead>\n",
       "  <tbody>\n",
       "    <tr>\n",
       "      <th>count</th>\n",
       "      <td>10000.00000</td>\n",
       "      <td>1.000000e+04</td>\n",
       "      <td>10000.000000</td>\n",
       "      <td>10000.000000</td>\n",
       "      <td>10000.000000</td>\n",
       "      <td>10000.000000</td>\n",
       "      <td>10000.000000</td>\n",
       "      <td>10000.00000</td>\n",
       "      <td>10000.000000</td>\n",
       "      <td>10000.000000</td>\n",
       "      <td>10000.000000</td>\n",
       "    </tr>\n",
       "    <tr>\n",
       "      <th>mean</th>\n",
       "      <td>5000.50000</td>\n",
       "      <td>1.569094e+07</td>\n",
       "      <td>650.528800</td>\n",
       "      <td>38.921800</td>\n",
       "      <td>5.012800</td>\n",
       "      <td>76485.889288</td>\n",
       "      <td>1.530200</td>\n",
       "      <td>0.70550</td>\n",
       "      <td>0.515100</td>\n",
       "      <td>100090.239881</td>\n",
       "      <td>0.203700</td>\n",
       "    </tr>\n",
       "    <tr>\n",
       "      <th>std</th>\n",
       "      <td>2886.89568</td>\n",
       "      <td>7.193619e+04</td>\n",
       "      <td>96.653299</td>\n",
       "      <td>10.487806</td>\n",
       "      <td>2.892174</td>\n",
       "      <td>62397.405202</td>\n",
       "      <td>0.581654</td>\n",
       "      <td>0.45584</td>\n",
       "      <td>0.499797</td>\n",
       "      <td>57510.492818</td>\n",
       "      <td>0.402769</td>\n",
       "    </tr>\n",
       "    <tr>\n",
       "      <th>min</th>\n",
       "      <td>1.00000</td>\n",
       "      <td>1.556570e+07</td>\n",
       "      <td>350.000000</td>\n",
       "      <td>18.000000</td>\n",
       "      <td>0.000000</td>\n",
       "      <td>0.000000</td>\n",
       "      <td>1.000000</td>\n",
       "      <td>0.00000</td>\n",
       "      <td>0.000000</td>\n",
       "      <td>11.580000</td>\n",
       "      <td>0.000000</td>\n",
       "    </tr>\n",
       "    <tr>\n",
       "      <th>25%</th>\n",
       "      <td>2500.75000</td>\n",
       "      <td>1.562853e+07</td>\n",
       "      <td>584.000000</td>\n",
       "      <td>32.000000</td>\n",
       "      <td>3.000000</td>\n",
       "      <td>0.000000</td>\n",
       "      <td>1.000000</td>\n",
       "      <td>0.00000</td>\n",
       "      <td>0.000000</td>\n",
       "      <td>51002.110000</td>\n",
       "      <td>0.000000</td>\n",
       "    </tr>\n",
       "    <tr>\n",
       "      <th>50%</th>\n",
       "      <td>5000.50000</td>\n",
       "      <td>1.569074e+07</td>\n",
       "      <td>652.000000</td>\n",
       "      <td>37.000000</td>\n",
       "      <td>5.000000</td>\n",
       "      <td>97198.540000</td>\n",
       "      <td>1.000000</td>\n",
       "      <td>1.00000</td>\n",
       "      <td>1.000000</td>\n",
       "      <td>100193.915000</td>\n",
       "      <td>0.000000</td>\n",
       "    </tr>\n",
       "    <tr>\n",
       "      <th>75%</th>\n",
       "      <td>7500.25000</td>\n",
       "      <td>1.575323e+07</td>\n",
       "      <td>718.000000</td>\n",
       "      <td>44.000000</td>\n",
       "      <td>7.000000</td>\n",
       "      <td>127644.240000</td>\n",
       "      <td>2.000000</td>\n",
       "      <td>1.00000</td>\n",
       "      <td>1.000000</td>\n",
       "      <td>149388.247500</td>\n",
       "      <td>0.000000</td>\n",
       "    </tr>\n",
       "    <tr>\n",
       "      <th>max</th>\n",
       "      <td>10000.00000</td>\n",
       "      <td>1.581569e+07</td>\n",
       "      <td>850.000000</td>\n",
       "      <td>92.000000</td>\n",
       "      <td>10.000000</td>\n",
       "      <td>250898.090000</td>\n",
       "      <td>4.000000</td>\n",
       "      <td>1.00000</td>\n",
       "      <td>1.000000</td>\n",
       "      <td>199992.480000</td>\n",
       "      <td>1.000000</td>\n",
       "    </tr>\n",
       "  </tbody>\n",
       "</table>\n",
       "</div>"
      ],
      "text/plain": [
       "         RowNumber    CustomerId   CreditScore           Age        Tenure  \\\n",
       "count  10000.00000  1.000000e+04  10000.000000  10000.000000  10000.000000   \n",
       "mean    5000.50000  1.569094e+07    650.528800     38.921800      5.012800   \n",
       "std     2886.89568  7.193619e+04     96.653299     10.487806      2.892174   \n",
       "min        1.00000  1.556570e+07    350.000000     18.000000      0.000000   \n",
       "25%     2500.75000  1.562853e+07    584.000000     32.000000      3.000000   \n",
       "50%     5000.50000  1.569074e+07    652.000000     37.000000      5.000000   \n",
       "75%     7500.25000  1.575323e+07    718.000000     44.000000      7.000000   \n",
       "max    10000.00000  1.581569e+07    850.000000     92.000000     10.000000   \n",
       "\n",
       "             Balance  NumOfProducts    HasCrCard  IsActiveMember  \\\n",
       "count   10000.000000   10000.000000  10000.00000    10000.000000   \n",
       "mean    76485.889288       1.530200      0.70550        0.515100   \n",
       "std     62397.405202       0.581654      0.45584        0.499797   \n",
       "min         0.000000       1.000000      0.00000        0.000000   \n",
       "25%         0.000000       1.000000      0.00000        0.000000   \n",
       "50%     97198.540000       1.000000      1.00000        1.000000   \n",
       "75%    127644.240000       2.000000      1.00000        1.000000   \n",
       "max    250898.090000       4.000000      1.00000        1.000000   \n",
       "\n",
       "       EstimatedSalary        Exited  \n",
       "count     10000.000000  10000.000000  \n",
       "mean     100090.239881      0.203700  \n",
       "std       57510.492818      0.402769  \n",
       "min          11.580000      0.000000  \n",
       "25%       51002.110000      0.000000  \n",
       "50%      100193.915000      0.000000  \n",
       "75%      149388.247500      0.000000  \n",
       "max      199992.480000      1.000000  "
      ]
     },
     "execution_count": 8,
     "metadata": {},
     "output_type": "execute_result"
    }
   ],
   "source": [
    "data.describe()"
   ]
  },
  {
   "cell_type": "code",
   "execution_count": 9,
   "metadata": {},
   "outputs": [
    {
     "name": "stdout",
     "output_type": "stream",
     "text": [
      "<class 'pandas.core.frame.DataFrame'>\n",
      "RangeIndex: 10000 entries, 0 to 9999\n",
      "Data columns (total 14 columns):\n",
      " #   Column           Non-Null Count  Dtype  \n",
      "---  ------           --------------  -----  \n",
      " 0   RowNumber        10000 non-null  int64  \n",
      " 1   CustomerId       10000 non-null  int64  \n",
      " 2   Surname          10000 non-null  object \n",
      " 3   CreditScore      10000 non-null  int64  \n",
      " 4   Geography        10000 non-null  object \n",
      " 5   Gender           10000 non-null  object \n",
      " 6   Age              10000 non-null  int64  \n",
      " 7   Tenure           10000 non-null  int64  \n",
      " 8   Balance          10000 non-null  float64\n",
      " 9   NumOfProducts    10000 non-null  int64  \n",
      " 10  HasCrCard        10000 non-null  int64  \n",
      " 11  IsActiveMember   10000 non-null  int64  \n",
      " 12  EstimatedSalary  10000 non-null  float64\n",
      " 13  Exited           10000 non-null  int64  \n",
      "dtypes: float64(2), int64(9), object(3)\n",
      "memory usage: 1.1+ MB\n"
     ]
    }
   ],
   "source": [
    "data.info()"
   ]
  },
  {
   "cell_type": "code",
   "execution_count": 14,
   "metadata": {},
   "outputs": [],
   "source": [
    "#selecting features\n",
    "X=data.iloc[:,3:13].values\n",
    "y=data.iloc[:,-1].values"
   ]
  },
  {
   "cell_type": "code",
   "execution_count": 15,
   "metadata": {},
   "outputs": [
    {
     "data": {
      "text/plain": [
       "array([[619, 'France', 'Female', ..., 1, 1, 101348.88],\n",
       "       [608, 'Spain', 'Female', ..., 0, 1, 112542.58],\n",
       "       [502, 'France', 'Female', ..., 1, 0, 113931.57],\n",
       "       ...,\n",
       "       [709, 'France', 'Female', ..., 0, 1, 42085.58],\n",
       "       [772, 'Germany', 'Male', ..., 1, 0, 92888.52],\n",
       "       [792, 'France', 'Female', ..., 1, 0, 38190.78]], dtype=object)"
      ]
     },
     "execution_count": 15,
     "metadata": {},
     "output_type": "execute_result"
    }
   ],
   "source": [
    "X"
   ]
  },
  {
   "cell_type": "code",
   "execution_count": 16,
   "metadata": {},
   "outputs": [
    {
     "data": {
      "text/plain": [
       "array([1, 0, 1, ..., 1, 1, 0], dtype=int64)"
      ]
     },
     "execution_count": 16,
     "metadata": {},
     "output_type": "execute_result"
    }
   ],
   "source": [
    "y"
   ]
  },
  {
   "cell_type": "code",
   "execution_count": 17,
   "metadata": {},
   "outputs": [
    {
     "data": {
      "text/html": [
       "<div>\n",
       "<style scoped>\n",
       "    .dataframe tbody tr th:only-of-type {\n",
       "        vertical-align: middle;\n",
       "    }\n",
       "\n",
       "    .dataframe tbody tr th {\n",
       "        vertical-align: top;\n",
       "    }\n",
       "\n",
       "    .dataframe thead th {\n",
       "        text-align: right;\n",
       "    }\n",
       "</style>\n",
       "<table border=\"1\" class=\"dataframe\">\n",
       "  <thead>\n",
       "    <tr style=\"text-align: right;\">\n",
       "      <th></th>\n",
       "      <th>RowNumber</th>\n",
       "      <th>CustomerId</th>\n",
       "      <th>CreditScore</th>\n",
       "      <th>Age</th>\n",
       "      <th>Tenure</th>\n",
       "      <th>Balance</th>\n",
       "      <th>NumOfProducts</th>\n",
       "      <th>HasCrCard</th>\n",
       "      <th>IsActiveMember</th>\n",
       "      <th>EstimatedSalary</th>\n",
       "      <th>Exited</th>\n",
       "    </tr>\n",
       "  </thead>\n",
       "  <tbody>\n",
       "    <tr>\n",
       "      <th>RowNumber</th>\n",
       "      <td>1.000000</td>\n",
       "      <td>0.004202</td>\n",
       "      <td>0.005840</td>\n",
       "      <td>0.000783</td>\n",
       "      <td>-0.006495</td>\n",
       "      <td>-0.009067</td>\n",
       "      <td>0.007246</td>\n",
       "      <td>0.000599</td>\n",
       "      <td>0.012044</td>\n",
       "      <td>-0.005988</td>\n",
       "      <td>-0.016571</td>\n",
       "    </tr>\n",
       "    <tr>\n",
       "      <th>CustomerId</th>\n",
       "      <td>0.004202</td>\n",
       "      <td>1.000000</td>\n",
       "      <td>0.005308</td>\n",
       "      <td>0.009497</td>\n",
       "      <td>-0.014883</td>\n",
       "      <td>-0.012419</td>\n",
       "      <td>0.016972</td>\n",
       "      <td>-0.014025</td>\n",
       "      <td>0.001665</td>\n",
       "      <td>0.015271</td>\n",
       "      <td>-0.006248</td>\n",
       "    </tr>\n",
       "    <tr>\n",
       "      <th>CreditScore</th>\n",
       "      <td>0.005840</td>\n",
       "      <td>0.005308</td>\n",
       "      <td>1.000000</td>\n",
       "      <td>-0.003965</td>\n",
       "      <td>0.000842</td>\n",
       "      <td>0.006268</td>\n",
       "      <td>0.012238</td>\n",
       "      <td>-0.005458</td>\n",
       "      <td>0.025651</td>\n",
       "      <td>-0.001384</td>\n",
       "      <td>-0.027094</td>\n",
       "    </tr>\n",
       "    <tr>\n",
       "      <th>Age</th>\n",
       "      <td>0.000783</td>\n",
       "      <td>0.009497</td>\n",
       "      <td>-0.003965</td>\n",
       "      <td>1.000000</td>\n",
       "      <td>-0.009997</td>\n",
       "      <td>0.028308</td>\n",
       "      <td>-0.030680</td>\n",
       "      <td>-0.011721</td>\n",
       "      <td>0.085472</td>\n",
       "      <td>-0.007201</td>\n",
       "      <td>0.285323</td>\n",
       "    </tr>\n",
       "    <tr>\n",
       "      <th>Tenure</th>\n",
       "      <td>-0.006495</td>\n",
       "      <td>-0.014883</td>\n",
       "      <td>0.000842</td>\n",
       "      <td>-0.009997</td>\n",
       "      <td>1.000000</td>\n",
       "      <td>-0.012254</td>\n",
       "      <td>0.013444</td>\n",
       "      <td>0.022583</td>\n",
       "      <td>-0.028362</td>\n",
       "      <td>0.007784</td>\n",
       "      <td>-0.014001</td>\n",
       "    </tr>\n",
       "    <tr>\n",
       "      <th>Balance</th>\n",
       "      <td>-0.009067</td>\n",
       "      <td>-0.012419</td>\n",
       "      <td>0.006268</td>\n",
       "      <td>0.028308</td>\n",
       "      <td>-0.012254</td>\n",
       "      <td>1.000000</td>\n",
       "      <td>-0.304180</td>\n",
       "      <td>-0.014858</td>\n",
       "      <td>-0.010084</td>\n",
       "      <td>0.012797</td>\n",
       "      <td>0.118533</td>\n",
       "    </tr>\n",
       "    <tr>\n",
       "      <th>NumOfProducts</th>\n",
       "      <td>0.007246</td>\n",
       "      <td>0.016972</td>\n",
       "      <td>0.012238</td>\n",
       "      <td>-0.030680</td>\n",
       "      <td>0.013444</td>\n",
       "      <td>-0.304180</td>\n",
       "      <td>1.000000</td>\n",
       "      <td>0.003183</td>\n",
       "      <td>0.009612</td>\n",
       "      <td>0.014204</td>\n",
       "      <td>-0.047820</td>\n",
       "    </tr>\n",
       "    <tr>\n",
       "      <th>HasCrCard</th>\n",
       "      <td>0.000599</td>\n",
       "      <td>-0.014025</td>\n",
       "      <td>-0.005458</td>\n",
       "      <td>-0.011721</td>\n",
       "      <td>0.022583</td>\n",
       "      <td>-0.014858</td>\n",
       "      <td>0.003183</td>\n",
       "      <td>1.000000</td>\n",
       "      <td>-0.011866</td>\n",
       "      <td>-0.009933</td>\n",
       "      <td>-0.007138</td>\n",
       "    </tr>\n",
       "    <tr>\n",
       "      <th>IsActiveMember</th>\n",
       "      <td>0.012044</td>\n",
       "      <td>0.001665</td>\n",
       "      <td>0.025651</td>\n",
       "      <td>0.085472</td>\n",
       "      <td>-0.028362</td>\n",
       "      <td>-0.010084</td>\n",
       "      <td>0.009612</td>\n",
       "      <td>-0.011866</td>\n",
       "      <td>1.000000</td>\n",
       "      <td>-0.011421</td>\n",
       "      <td>-0.156128</td>\n",
       "    </tr>\n",
       "    <tr>\n",
       "      <th>EstimatedSalary</th>\n",
       "      <td>-0.005988</td>\n",
       "      <td>0.015271</td>\n",
       "      <td>-0.001384</td>\n",
       "      <td>-0.007201</td>\n",
       "      <td>0.007784</td>\n",
       "      <td>0.012797</td>\n",
       "      <td>0.014204</td>\n",
       "      <td>-0.009933</td>\n",
       "      <td>-0.011421</td>\n",
       "      <td>1.000000</td>\n",
       "      <td>0.012097</td>\n",
       "    </tr>\n",
       "    <tr>\n",
       "      <th>Exited</th>\n",
       "      <td>-0.016571</td>\n",
       "      <td>-0.006248</td>\n",
       "      <td>-0.027094</td>\n",
       "      <td>0.285323</td>\n",
       "      <td>-0.014001</td>\n",
       "      <td>0.118533</td>\n",
       "      <td>-0.047820</td>\n",
       "      <td>-0.007138</td>\n",
       "      <td>-0.156128</td>\n",
       "      <td>0.012097</td>\n",
       "      <td>1.000000</td>\n",
       "    </tr>\n",
       "  </tbody>\n",
       "</table>\n",
       "</div>"
      ],
      "text/plain": [
       "                 RowNumber  CustomerId  CreditScore       Age    Tenure  \\\n",
       "RowNumber         1.000000    0.004202     0.005840  0.000783 -0.006495   \n",
       "CustomerId        0.004202    1.000000     0.005308  0.009497 -0.014883   \n",
       "CreditScore       0.005840    0.005308     1.000000 -0.003965  0.000842   \n",
       "Age               0.000783    0.009497    -0.003965  1.000000 -0.009997   \n",
       "Tenure           -0.006495   -0.014883     0.000842 -0.009997  1.000000   \n",
       "Balance          -0.009067   -0.012419     0.006268  0.028308 -0.012254   \n",
       "NumOfProducts     0.007246    0.016972     0.012238 -0.030680  0.013444   \n",
       "HasCrCard         0.000599   -0.014025    -0.005458 -0.011721  0.022583   \n",
       "IsActiveMember    0.012044    0.001665     0.025651  0.085472 -0.028362   \n",
       "EstimatedSalary  -0.005988    0.015271    -0.001384 -0.007201  0.007784   \n",
       "Exited           -0.016571   -0.006248    -0.027094  0.285323 -0.014001   \n",
       "\n",
       "                  Balance  NumOfProducts  HasCrCard  IsActiveMember  \\\n",
       "RowNumber       -0.009067       0.007246   0.000599        0.012044   \n",
       "CustomerId      -0.012419       0.016972  -0.014025        0.001665   \n",
       "CreditScore      0.006268       0.012238  -0.005458        0.025651   \n",
       "Age              0.028308      -0.030680  -0.011721        0.085472   \n",
       "Tenure          -0.012254       0.013444   0.022583       -0.028362   \n",
       "Balance          1.000000      -0.304180  -0.014858       -0.010084   \n",
       "NumOfProducts   -0.304180       1.000000   0.003183        0.009612   \n",
       "HasCrCard       -0.014858       0.003183   1.000000       -0.011866   \n",
       "IsActiveMember  -0.010084       0.009612  -0.011866        1.000000   \n",
       "EstimatedSalary  0.012797       0.014204  -0.009933       -0.011421   \n",
       "Exited           0.118533      -0.047820  -0.007138       -0.156128   \n",
       "\n",
       "                 EstimatedSalary    Exited  \n",
       "RowNumber              -0.005988 -0.016571  \n",
       "CustomerId              0.015271 -0.006248  \n",
       "CreditScore            -0.001384 -0.027094  \n",
       "Age                    -0.007201  0.285323  \n",
       "Tenure                  0.007784 -0.014001  \n",
       "Balance                 0.012797  0.118533  \n",
       "NumOfProducts           0.014204 -0.047820  \n",
       "HasCrCard              -0.009933 -0.007138  \n",
       "IsActiveMember         -0.011421 -0.156128  \n",
       "EstimatedSalary         1.000000  0.012097  \n",
       "Exited                  0.012097  1.000000  "
      ]
     },
     "execution_count": 17,
     "metadata": {},
     "output_type": "execute_result"
    }
   ],
   "source": [
    "data.corr()"
   ]
  },
  {
   "cell_type": "code",
   "execution_count": 23,
   "metadata": {},
   "outputs": [],
   "source": [
    "#Encoding the dataset\n",
    "label_encoder_x1=LabelEncoder()\n",
    "X[:,1]=label_encoder_x1.fit_transform(X[:,1])\n",
    "label_encoder_x2=LabelEncoder()\n",
    "X[:,2]=label_encoder_x2.fit_transform(X[:,2])\n",
    "\n",
    "transformer=ColumnTransformer(transformers=[('Geography' , OneHotEncoder() , [1])], remainder='passthrough')\n",
    "X=transformer.fit_transform(X.tolist())\n",
    "X=X.astype('float64')"
   ]
  },
  {
   "cell_type": "code",
   "execution_count": 28,
   "metadata": {},
   "outputs": [],
   "source": [
    "#splitting the dataset into training and test model\n",
    "X_train,X_test,y_train,y_test=train_test_split(X,y,test_size=0.2,random_state=42)"
   ]
  },
  {
   "cell_type": "code",
   "execution_count": 29,
   "metadata": {},
   "outputs": [
    {
     "data": {
      "text/plain": [
       "(12,)"
      ]
     },
     "execution_count": 29,
     "metadata": {},
     "output_type": "execute_result"
    }
   ],
   "source": [
    "X_train[0].shape"
   ]
  },
  {
   "cell_type": "code",
   "execution_count": 30,
   "metadata": {},
   "outputs": [],
   "source": [
    "#Feature Scaling\n",
    "ss=StandardScaler()\n",
    "X_train=ss.fit_transform(X_train)\n",
    "X_test=ss.fit_transform(X_test)"
   ]
  },
  {
   "cell_type": "code",
   "execution_count": 33,
   "metadata": {},
   "outputs": [
    {
     "name": "stderr",
     "output_type": "stream",
     "text": [
      "C:\\Users\\Sakshi Gupta\\anaconda3\\lib\\site-packages\\ipykernel_launcher.py:4: UserWarning: Update your `Dense` call to the Keras 2 API: `Dense(activation=\"relu\", input_dim=12, units=6, kernel_initializer=\"uniform\")`\n",
      "  after removing the cwd from sys.path.\n",
      "C:\\Users\\Sakshi Gupta\\anaconda3\\lib\\site-packages\\ipykernel_launcher.py:5: UserWarning: Update your `Dense` call to the Keras 2 API: `Dense(activation=\"relu\", units=6, kernel_initializer=\"uniform\")`\n",
      "  \"\"\"\n",
      "C:\\Users\\Sakshi Gupta\\anaconda3\\lib\\site-packages\\ipykernel_launcher.py:6: UserWarning: Update your `Dense` call to the Keras 2 API: `Dense(activation=\"sigmoid\", units=1, kernel_initializer=\"uniform\")`\n",
      "  \n"
     ]
    }
   ],
   "source": [
    "#creating model\n",
    "cls=Sequential()\n",
    "\n",
    "cls.add(Dense(output_dim=6, init='uniform', activation='relu', input_dim=12))\n",
    "cls.add(Dense(output_dim=6, init='uniform', activation='relu'))\n",
    "cls.add(Dense(output_dim=1, init='uniform', activation='sigmoid'))\n",
    "\n",
    "#compile the model\n",
    "cls.compile(optimizer='adam', loss='binary_crossentropy', metrics=['accuracy'])"
   ]
  },
  {
   "cell_type": "code",
   "execution_count": 34,
   "metadata": {},
   "outputs": [
    {
     "name": "stdout",
     "output_type": "stream",
     "text": [
      "Epoch 1/100\n",
      "8000/8000 [==============================] - 2s 252us/step - loss: 0.5542 - accuracy: 0.7929\n",
      "Epoch 2/100\n",
      "8000/8000 [==============================] - 1s 75us/step - loss: 0.4091 - accuracy: 0.8223\n",
      "Epoch 3/100\n",
      "8000/8000 [==============================] - 1s 74us/step - loss: 0.3744 - accuracy: 0.8491\n",
      "Epoch 4/100\n",
      "8000/8000 [==============================] - 1s 72us/step - loss: 0.3592 - accuracy: 0.8531\n",
      "Epoch 5/100\n",
      "8000/8000 [==============================] - 1s 73us/step - loss: 0.3541 - accuracy: 0.8556\n",
      "Epoch 6/100\n",
      "8000/8000 [==============================] - 1s 69us/step - loss: 0.3506 - accuracy: 0.8583\n",
      "Epoch 7/100\n",
      "8000/8000 [==============================] - 1s 74us/step - loss: 0.3478 - accuracy: 0.8594\n",
      "Epoch 8/100\n",
      "8000/8000 [==============================] - 1s 74us/step - loss: 0.3462 - accuracy: 0.8587\n",
      "Epoch 9/100\n",
      "8000/8000 [==============================] - 1s 70us/step - loss: 0.3452 - accuracy: 0.8600\n",
      "Epoch 10/100\n",
      "8000/8000 [==============================] - 1s 72us/step - loss: 0.3437 - accuracy: 0.8608\n",
      "Epoch 11/100\n",
      "8000/8000 [==============================] - 1s 69us/step - loss: 0.3434 - accuracy: 0.8587\n",
      "Epoch 12/100\n",
      "8000/8000 [==============================] - 1s 76us/step - loss: 0.3425 - accuracy: 0.8605\n",
      "Epoch 13/100\n",
      "8000/8000 [==============================] - 1s 69us/step - loss: 0.3416 - accuracy: 0.8590\n",
      "Epoch 14/100\n",
      "8000/8000 [==============================] - 1s 68us/step - loss: 0.3418 - accuracy: 0.8621\n",
      "Epoch 15/100\n",
      "8000/8000 [==============================] - 1s 68us/step - loss: 0.3413 - accuracy: 0.8602\n",
      "Epoch 16/100\n",
      "8000/8000 [==============================] - 1s 70us/step - loss: 0.3407 - accuracy: 0.8618\n",
      "Epoch 17/100\n",
      "8000/8000 [==============================] - 1s 68us/step - loss: 0.3398 - accuracy: 0.8612\n",
      "Epoch 18/100\n",
      "8000/8000 [==============================] - 1s 73us/step - loss: 0.3392 - accuracy: 0.8611\n",
      "Epoch 19/100\n",
      "8000/8000 [==============================] - 1s 69us/step - loss: 0.3390 - accuracy: 0.8609\n",
      "Epoch 20/100\n",
      "8000/8000 [==============================] - 0s 60us/step - loss: 0.3387 - accuracy: 0.8625\n",
      "Epoch 21/100\n",
      "8000/8000 [==============================] - 0s 54us/step - loss: 0.3389 - accuracy: 0.8604\n",
      "Epoch 22/100\n",
      "8000/8000 [==============================] - 0s 53us/step - loss: 0.3373 - accuracy: 0.8608\n",
      "Epoch 23/100\n",
      "8000/8000 [==============================] - 0s 52us/step - loss: 0.3380 - accuracy: 0.8619\n",
      "Epoch 24/100\n",
      "8000/8000 [==============================] - 0s 52us/step - loss: 0.3375 - accuracy: 0.8630\n",
      "Epoch 25/100\n",
      "8000/8000 [==============================] - 0s 49us/step - loss: 0.3373 - accuracy: 0.8609\n",
      "Epoch 26/100\n",
      "8000/8000 [==============================] - 0s 51us/step - loss: 0.3372 - accuracy: 0.8648\n",
      "Epoch 27/100\n",
      "8000/8000 [==============================] - 0s 52us/step - loss: 0.3375 - accuracy: 0.8625\n",
      "Epoch 28/100\n",
      "8000/8000 [==============================] - 0s 51us/step - loss: 0.3372 - accuracy: 0.8615\n",
      "Epoch 29/100\n",
      "8000/8000 [==============================] - 0s 54us/step - loss: 0.3369 - accuracy: 0.8637\n",
      "Epoch 30/100\n",
      "8000/8000 [==============================] - 0s 55us/step - loss: 0.3365 - accuracy: 0.8633\n",
      "Epoch 31/100\n",
      "8000/8000 [==============================] - 0s 52us/step - loss: 0.3368 - accuracy: 0.8627\n",
      "Epoch 32/100\n",
      "8000/8000 [==============================] - 0s 53us/step - loss: 0.3360 - accuracy: 0.8630\n",
      "Epoch 33/100\n",
      "8000/8000 [==============================] - 0s 54us/step - loss: 0.3362 - accuracy: 0.8637\n",
      "Epoch 34/100\n",
      "8000/8000 [==============================] - 0s 55us/step - loss: 0.3361 - accuracy: 0.8630 0s - loss: 0.3256 - ac\n",
      "Epoch 35/100\n",
      "8000/8000 [==============================] - 0s 54us/step - loss: 0.3364 - accuracy: 0.8621\n",
      "Epoch 36/100\n",
      "8000/8000 [==============================] - 0s 56us/step - loss: 0.3361 - accuracy: 0.8604\n",
      "Epoch 37/100\n",
      "8000/8000 [==============================] - 0s 57us/step - loss: 0.3363 - accuracy: 0.8631\n",
      "Epoch 38/100\n",
      "8000/8000 [==============================] - 0s 57us/step - loss: 0.3364 - accuracy: 0.8631\n",
      "Epoch 39/100\n",
      "8000/8000 [==============================] - 0s 56us/step - loss: 0.3360 - accuracy: 0.8627\n",
      "Epoch 40/100\n",
      "8000/8000 [==============================] - 0s 55us/step - loss: 0.3359 - accuracy: 0.8636\n",
      "Epoch 41/100\n",
      "8000/8000 [==============================] - 0s 57us/step - loss: 0.3350 - accuracy: 0.8649\n",
      "Epoch 42/100\n",
      "8000/8000 [==============================] - 0s 56us/step - loss: 0.3356 - accuracy: 0.8620 0s - loss: 0.3344 - accuracy: 0.86\n",
      "Epoch 43/100\n",
      "8000/8000 [==============================] - 0s 54us/step - loss: 0.3359 - accuracy: 0.8627\n",
      "Epoch 44/100\n",
      "8000/8000 [==============================] - 1s 68us/step - loss: 0.3354 - accuracy: 0.8631\n",
      "Epoch 45/100\n",
      "8000/8000 [==============================] - 0s 53us/step - loss: 0.3353 - accuracy: 0.8630\n",
      "Epoch 46/100\n",
      "8000/8000 [==============================] - 0s 51us/step - loss: 0.3352 - accuracy: 0.8602\n",
      "Epoch 47/100\n",
      "8000/8000 [==============================] - 0s 48us/step - loss: 0.3356 - accuracy: 0.8619\n",
      "Epoch 48/100\n",
      "8000/8000 [==============================] - 0s 49us/step - loss: 0.3354 - accuracy: 0.8618\n",
      "Epoch 49/100\n",
      "8000/8000 [==============================] - 1s 67us/step - loss: 0.3350 - accuracy: 0.8616\n",
      "Epoch 50/100\n",
      "8000/8000 [==============================] - 0s 58us/step - loss: 0.3352 - accuracy: 0.8641\n",
      "Epoch 51/100\n",
      "8000/8000 [==============================] - 0s 55us/step - loss: 0.3349 - accuracy: 0.8636\n",
      "Epoch 52/100\n",
      "8000/8000 [==============================] - 0s 54us/step - loss: 0.3350 - accuracy: 0.8618\n",
      "Epoch 53/100\n",
      "8000/8000 [==============================] - 0s 55us/step - loss: 0.3351 - accuracy: 0.8637\n",
      "Epoch 54/100\n",
      "8000/8000 [==============================] - 1s 67us/step - loss: 0.3348 - accuracy: 0.8635\n",
      "Epoch 55/100\n",
      "8000/8000 [==============================] - 0s 52us/step - loss: 0.3353 - accuracy: 0.8633\n",
      "Epoch 56/100\n",
      "8000/8000 [==============================] - 0s 48us/step - loss: 0.3350 - accuracy: 0.8621\n",
      "Epoch 57/100\n",
      "8000/8000 [==============================] - 0s 47us/step - loss: 0.3347 - accuracy: 0.8643\n",
      "Epoch 58/100\n",
      "8000/8000 [==============================] - 0s 45us/step - loss: 0.3347 - accuracy: 0.8633\n",
      "Epoch 59/100\n",
      "8000/8000 [==============================] - 1s 66us/step - loss: 0.3352 - accuracy: 0.8621\n",
      "Epoch 60/100\n",
      "8000/8000 [==============================] - 0s 54us/step - loss: 0.3344 - accuracy: 0.8625\n",
      "Epoch 61/100\n",
      "8000/8000 [==============================] - 0s 53us/step - loss: 0.3345 - accuracy: 0.8634\n",
      "Epoch 62/100\n",
      "8000/8000 [==============================] - 0s 55us/step - loss: 0.3346 - accuracy: 0.8631\n",
      "Epoch 63/100\n",
      "8000/8000 [==============================] - 0s 52us/step - loss: 0.3344 - accuracy: 0.8637\n",
      "Epoch 64/100\n",
      "8000/8000 [==============================] - 1s 64us/step - loss: 0.3349 - accuracy: 0.8626\n",
      "Epoch 65/100\n",
      "8000/8000 [==============================] - 0s 49us/step - loss: 0.3351 - accuracy: 0.8621\n",
      "Epoch 66/100\n",
      "8000/8000 [==============================] - 0s 46us/step - loss: 0.3343 - accuracy: 0.8621\n",
      "Epoch 67/100\n",
      "8000/8000 [==============================] - 1s 66us/step - loss: 0.3347 - accuracy: 0.8637\n",
      "Epoch 68/100\n",
      "8000/8000 [==============================] - 0s 61us/step - loss: 0.3344 - accuracy: 0.8643\n",
      "Epoch 69/100\n",
      "8000/8000 [==============================] - 0s 58us/step - loss: 0.3346 - accuracy: 0.8622\n",
      "Epoch 70/100\n",
      "8000/8000 [==============================] - 0s 60us/step - loss: 0.3343 - accuracy: 0.8636\n",
      "Epoch 71/100\n",
      "8000/8000 [==============================] - 0s 55us/step - loss: 0.3341 - accuracy: 0.8635\n",
      "Epoch 72/100\n",
      "8000/8000 [==============================] - 0s 58us/step - loss: 0.3344 - accuracy: 0.8629\n",
      "Epoch 73/100\n",
      "8000/8000 [==============================] - 0s 62us/step - loss: 0.3346 - accuracy: 0.8640\n",
      "Epoch 74/100\n",
      "8000/8000 [==============================] - 1s 67us/step - loss: 0.3344 - accuracy: 0.8625\n",
      "Epoch 75/100\n",
      "8000/8000 [==============================] - 0s 62us/step - loss: 0.3344 - accuracy: 0.8618\n",
      "Epoch 76/100\n",
      "8000/8000 [==============================] - 0s 58us/step - loss: 0.3344 - accuracy: 0.8633\n",
      "Epoch 77/100\n",
      "8000/8000 [==============================] - 0s 58us/step - loss: 0.3343 - accuracy: 0.8631\n",
      "Epoch 78/100\n",
      "8000/8000 [==============================] - 0s 55us/step - loss: 0.3337 - accuracy: 0.8651\n",
      "Epoch 79/100\n",
      "8000/8000 [==============================] - 0s 55us/step - loss: 0.3345 - accuracy: 0.8614\n",
      "Epoch 80/100\n",
      "8000/8000 [==============================] - 0s 58us/step - loss: 0.3344 - accuracy: 0.8629\n",
      "Epoch 81/100\n",
      "8000/8000 [==============================] - 0s 54us/step - loss: 0.3342 - accuracy: 0.8633\n",
      "Epoch 82/100\n",
      "8000/8000 [==============================] - 0s 55us/step - loss: 0.3341 - accuracy: 0.8629\n",
      "Epoch 83/100\n",
      "8000/8000 [==============================] - 0s 53us/step - loss: 0.3336 - accuracy: 0.8625\n",
      "Epoch 84/100\n",
      "8000/8000 [==============================] - 0s 59us/step - loss: 0.3338 - accuracy: 0.8627\n",
      "Epoch 85/100\n",
      "8000/8000 [==============================] - 0s 62us/step - loss: 0.3337 - accuracy: 0.8637\n",
      "Epoch 86/100\n",
      "8000/8000 [==============================] - 0s 55us/step - loss: 0.3333 - accuracy: 0.8629\n",
      "Epoch 87/100\n",
      "8000/8000 [==============================] - 0s 53us/step - loss: 0.3346 - accuracy: 0.8600\n",
      "Epoch 88/100\n",
      "8000/8000 [==============================] - 0s 54us/step - loss: 0.3335 - accuracy: 0.8620\n",
      "Epoch 89/100\n",
      "8000/8000 [==============================] - 0s 52us/step - loss: 0.3338 - accuracy: 0.8630\n",
      "Epoch 90/100\n",
      "8000/8000 [==============================] - 0s 58us/step - loss: 0.3337 - accuracy: 0.8629\n",
      "Epoch 91/100\n",
      "8000/8000 [==============================] - 0s 57us/step - loss: 0.3345 - accuracy: 0.8615\n",
      "Epoch 92/100\n",
      "8000/8000 [==============================] - 0s 56us/step - loss: 0.3338 - accuracy: 0.8636\n",
      "Epoch 93/100\n",
      "8000/8000 [==============================] - 0s 55us/step - loss: 0.3342 - accuracy: 0.8635\n",
      "Epoch 94/100\n",
      "8000/8000 [==============================] - 0s 54us/step - loss: 0.3337 - accuracy: 0.8631\n",
      "Epoch 95/100\n",
      "8000/8000 [==============================] - 0s 55us/step - loss: 0.3338 - accuracy: 0.8622\n",
      "Epoch 96/100\n",
      "8000/8000 [==============================] - 1s 69us/step - loss: 0.3335 - accuracy: 0.8624\n",
      "Epoch 97/100\n",
      "8000/8000 [==============================] - 0s 52us/step - loss: 0.3334 - accuracy: 0.8631\n",
      "Epoch 98/100\n",
      "8000/8000 [==============================] - 0s 53us/step - loss: 0.3335 - accuracy: 0.8641\n",
      "Epoch 99/100\n",
      "8000/8000 [==============================] - 0s 52us/step - loss: 0.3337 - accuracy: 0.8629\n",
      "Epoch 100/100\n",
      "8000/8000 [==============================] - 1s 67us/step - loss: 0.3336 - accuracy: 0.8631\n"
     ]
    },
    {
     "data": {
      "text/plain": [
       "<keras.callbacks.callbacks.History at 0x28ad9f65f88>"
      ]
     },
     "execution_count": 34,
     "metadata": {},
     "output_type": "execute_result"
    }
   ],
   "source": [
    "cls.fit(X_train,y_train,batch_size=20,epochs=100)\n"
   ]
  },
  {
   "cell_type": "code",
   "execution_count": 35,
   "metadata": {},
   "outputs": [],
   "source": [
    "y_pred=cls.predict(X_test)"
   ]
  },
  {
   "cell_type": "code",
   "execution_count": 36,
   "metadata": {},
   "outputs": [],
   "source": [
    "y_pred=(y_pred>0.5)"
   ]
  },
  {
   "cell_type": "code",
   "execution_count": 37,
   "metadata": {},
   "outputs": [
    {
     "data": {
      "text/plain": [
       "array([[False],\n",
       "       [False],\n",
       "       [False],\n",
       "       ...,\n",
       "       [ True],\n",
       "       [False],\n",
       "       [False]])"
      ]
     },
     "execution_count": 37,
     "metadata": {},
     "output_type": "execute_result"
    }
   ],
   "source": [
    "y_pred"
   ]
  },
  {
   "cell_type": "code",
   "execution_count": 38,
   "metadata": {},
   "outputs": [
    {
     "data": {
      "text/plain": [
       "(2000, 1)"
      ]
     },
     "execution_count": 38,
     "metadata": {},
     "output_type": "execute_result"
    }
   ],
   "source": [
    "y_pred.shape"
   ]
  },
  {
   "cell_type": "code",
   "execution_count": 39,
   "metadata": {},
   "outputs": [],
   "source": [
    "y_test=(y_test>0.5)"
   ]
  },
  {
   "cell_type": "code",
   "execution_count": 40,
   "metadata": {},
   "outputs": [
    {
     "data": {
      "text/plain": [
       "array([False, False, False, ...,  True,  True,  True])"
      ]
     },
     "execution_count": 40,
     "metadata": {},
     "output_type": "execute_result"
    }
   ],
   "source": [
    "y_test"
   ]
  },
  {
   "cell_type": "code",
   "execution_count": 41,
   "metadata": {},
   "outputs": [
    {
     "data": {
      "text/plain": [
       "(2000,)"
      ]
     },
     "execution_count": 41,
     "metadata": {},
     "output_type": "execute_result"
    }
   ],
   "source": [
    "y_test.shape"
   ]
  },
  {
   "cell_type": "code",
   "execution_count": 42,
   "metadata": {},
   "outputs": [
    {
     "data": {
      "text/plain": [
       "array([[1550,  221],\n",
       "       [  57,  172]], dtype=int64)"
      ]
     },
     "execution_count": 42,
     "metadata": {},
     "output_type": "execute_result"
    }
   ],
   "source": [
    "cm=confusion_matrix(y_pred,y_test)\n",
    "cm"
   ]
  },
  {
   "cell_type": "code",
   "execution_count": 44,
   "metadata": {},
   "outputs": [],
   "source": [
    "accuracy=accuracy_score(y_pred,y_test)"
   ]
  },
  {
   "cell_type": "code",
   "execution_count": 46,
   "metadata": {},
   "outputs": [
    {
     "name": "stdout",
     "output_type": "stream",
     "text": [
      "The accuracy of the model is  0.861\n"
     ]
    }
   ],
   "source": [
    "print('The accuracy of the model is ',accuracy)"
   ]
  },
  {
   "cell_type": "code",
   "execution_count": null,
   "metadata": {},
   "outputs": [],
   "source": []
  }
 ],
 "metadata": {
  "kernelspec": {
   "display_name": "Python 3",
   "language": "python",
   "name": "python3"
  },
  "language_info": {
   "codemirror_mode": {
    "name": "ipython",
    "version": 3
   },
   "file_extension": ".py",
   "mimetype": "text/x-python",
   "name": "python",
   "nbconvert_exporter": "python",
   "pygments_lexer": "ipython3",
   "version": "3.7.6"
  }
 },
 "nbformat": 4,
 "nbformat_minor": 4
}
